{
 "cells": [
  {
   "cell_type": "markdown",
   "metadata": {},
   "source": [
    "# Assignment 5\n",
    "The following assignment relies heavily on the content covered in the week 5 notes.  Many of the operations you are asked to do here resemble those we went over in class.  Please make sure to reference lesson 5.1 and especially lesson 5.2 notes to guide you through these exercises.  You will need to examine the page:  https://www.marketwatch.com/investing/stock/aapl to understand the structure (tags, classes).  \n",
    "#### Documentation\n",
    "[requests library](http://docs.python-requests.org/en/master/)  \n",
    "[beautifulsoup library](https://www.crummy.com/software/BeautifulSoup/bs4/doc/)  "
   ]
  },
  {
   "cell_type": "markdown",
   "metadata": {},
   "source": [
    "### Problem 1\n",
    "The following is a method we can use to open a file called data_file.txt. "
   ]
  },
  {
   "cell_type": "markdown",
   "metadata": {},
   "source": [
    "a. Turn the following code into a try and except block printing our an informative message when the file doesn't open (which it won't).\n",
    "```\n",
    "with open('data_file.txt') as data:\n",
    "    read_data = data.read()\n",
    "```"
   ]
  },
  {
   "cell_type": "code",
   "execution_count": 46,
   "metadata": {},
   "outputs": [
    {
     "name": "stdout",
     "output_type": "stream",
     "text": [
      "Could not open data_file.txt\n"
     ]
    }
   ],
   "source": [
    "# code here\n",
    "try: \n",
    "    with open('data_file.txt') as data:\n",
    "        read_data = data.read()\n",
    "    \n",
    "except: \n",
    "    print(\"Could not open data_file.txt\")\n",
    "\n",
    "    \n",
    "# returns: Could not open data_file.txt"
   ]
  },
  {
   "cell_type": "markdown",
   "metadata": {},
   "source": [
    "b.  Briefly desribe the importance of handling exceptions in programming. "
   ]
  },
  {
   "cell_type": "code",
   "execution_count": 47,
   "metadata": {},
   "outputs": [],
   "source": [
    "#If an expection is not dealt with, any code following the error will not run and our program will most likely crash. \n",
    "#To prevent this crash and enable our program to properly recover from an error, the expection must be handled.   "
   ]
  },
  {
   "cell_type": "markdown",
   "metadata": {},
   "source": [
    "The rest of this assignment will rely on the following libraries.  You will need to import them again as part of your functions. "
   ]
  },
  {
   "cell_type": "code",
   "execution_count": 48,
   "metadata": {},
   "outputs": [],
   "source": [
    "#Packages\n",
    "#Web scraping packages\n",
    "from bs4 import BeautifulSoup\n",
    "import requests\n",
    "#Pandas for data manipulation\n",
    "import pandas as pd"
   ]
  },
  {
   "cell_type": "markdown",
   "metadata": {},
   "source": [
    "### Problem 2\n",
    "This problem is all about web-scraping with requests and BeautifulSoup.  "
   ]
  },
  {
   "cell_type": "markdown",
   "metadata": {},
   "source": [
    "a.  Run a get request to url=\"https://www.marketwatch.com/investing/stock/\"+\"aapl\" and store the object returned as 'response'.  If the status code is not 200, print \"request not successful\"."
   ]
  },
  {
   "cell_type": "code",
   "execution_count": 3,
   "metadata": {},
   "outputs": [],
   "source": [
    "import requests\n",
    "# Define the url\n",
    "url = \"https://www.marketwatch.com/investing/stock/\"+\"aapl\"\n",
    "\n",
    "# create the response from the get request\n",
    "response = requests.get(url)\n"
   ]
  },
  {
   "cell_type": "markdown",
   "metadata": {},
   "source": [
    "b.  Referencing the above response, create BeautifulSoup object called \"results_page\" parsed with 'lxml'."
   ]
  },
  {
   "cell_type": "code",
   "execution_count": 4,
   "metadata": {},
   "outputs": [],
   "source": [
    "from bs4 import BeautifulSoup\n",
    "# build the BeautifulSoup object and name it results_page\n",
    "results_page = BeautifulSoup(response.content, 'lxml')\n"
   ]
  },
  {
   "cell_type": "markdown",
   "metadata": {},
   "source": [
    "c.  On the webpage:  https://www.marketwatch.com/investing/stock/aapl, for the section called \"Key Data\". Inspect the page and verify that the tag/class combination that uniquely identifies each of the items in this table is 'li'/'kv_item'.  Find all elements identified by a tag of 'li' and a class_='kv_item'.  "
   ]
  },
  {
   "cell_type": "code",
   "execution_count": 5,
   "metadata": {},
   "outputs": [
    {
     "name": "stdout",
     "output_type": "stream",
     "text": [
      "<class 'bs4.element.ResultSet'>\n"
     ]
    }
   ],
   "source": [
    "# find all elements with the tag \"li\" and class_=\"kv__item\"\n",
    "kv_data = results_page.find_all(\"li\", class_=\"kv__item\")\n",
    "\n",
    "# print the data type for the kv_data object\n",
    "print(type(kv_data))\n",
    "\n",
    "\n"
   ]
  },
  {
   "cell_type": "markdown",
   "metadata": {},
   "source": [
    "d. The code to answer the above question should have returned a list.  Print the first item in this list.  You should get:\n",
    "```\n",
    "<li class=\"kv__item\">\n",
    "<small class=\"kv__label\">Open</small>\n",
    "<span class=\"kv__value kv__primary \">$188.75</span>\n",
    "<span class=\"kv__value kv__secondary no-value\"></span>\n",
    "</li>\n",
    "```"
   ]
  },
  {
   "cell_type": "code",
   "execution_count": 6,
   "metadata": {},
   "outputs": [
    {
     "data": {
      "text/plain": [
       "<li class=\"kv__item\">\n",
       "<small class=\"kv__label\">Open</small>\n",
       "<span class=\"kv__value kv__primary\">$244.76</span>\n",
       "<span class=\"kv__value kv__secondary no-value\"></span>\n",
       "</li>"
      ]
     },
     "execution_count": 6,
     "metadata": {},
     "output_type": "execute_result"
    }
   ],
   "source": [
    "# print the first item in the list you generated above\n",
    "kv_data[0]\n"
   ]
  },
  {
   "cell_type": "markdown",
   "metadata": {},
   "source": [
    "From the object shown above, extract the label \"Open\" and the value \"$188.75\"\n",
    "\n",
    "Note:  values will differ."
   ]
  },
  {
   "cell_type": "code",
   "execution_count": 9,
   "metadata": {},
   "outputs": [
    {
     "name": "stdout",
     "output_type": "stream",
     "text": [
      "('Open', '$244.76')\n"
     ]
    }
   ],
   "source": [
    "# extract the label \n",
    "label = kv_data[0].find('small', class_= \"kv__label\").get_text()\n",
    "\n",
    "# extract the value\n",
    "value= kv_data[0].find('span', class_= \"kv__primary\").get_text()\n",
    "\n",
    "# print the results\n",
    "print((label,value))\n"
   ]
  },
  {
   "cell_type": "markdown",
   "metadata": {},
   "source": [
    "e.  We need to be able to extract the text for each of the items in the key_data object.  Write a for loop to extract the label and primary value creating a list of the form [(label, value), (label,value),...]"
   ]
  },
  {
   "cell_type": "code",
   "execution_count": 13,
   "metadata": {},
   "outputs": [
    {
     "name": "stdout",
     "output_type": "stream",
     "text": [
      "[('Open', '$244.76'), ('Day Range', '241.21 - 245.30'), ('52 Week Range', '142.00 - 249.75'), ('Market Cap', '$1.1T'), ('Shares Outstanding', '4.6B'), ('Public Float', '4.51B'), ('Beta', '1.24'), ('Rev. per Employee', '$1.98M'), ('P/E Ratio', '20.73'), ('EPS', '$11.74'), ('Yield', '1.27%'), ('Dividend', '$0.77'), ('Ex-Dividend Date', 'Aug 9, 2019'), ('Short Interest', '48.02M'), ('% of Float Shorted', '1.06%'), ('Average Volume', '28.57M')]\n"
     ]
    }
   ],
   "source": [
    "# initialize an empty list\n",
    "new_list = []\n",
    "\n",
    "# loop over the items obtained in the key_data object extracting the label and value from each\n",
    "for items in kv_data:\n",
    "    label = items.find('small', class_= \"kv__label\").get_text()\n",
    "    value = items.find('span', class_=\"kv__primary\").get_text()\n",
    "\n",
    "    new_list.append((label,value))\n",
    "print(new_list)\n",
    "\n",
    "    "
   ]
  },
  {
   "cell_type": "markdown",
   "metadata": {},
   "source": [
    "f. Optional Challenge:  \n",
    "\n",
    "Combine all of the above into a function that accepts a stock symbol as an argument and returns the list of (label, value) pairs.  "
   ]
  },
  {
   "cell_type": "code",
   "execution_count": null,
   "metadata": {},
   "outputs": [],
   "source": [
    "def get_key_data(symbol):\n",
    "\n",
    "    \n",
    "    try: \n",
    "\n",
    "        \n",
    "    except:\n",
    "        return None\n",
    "            "
   ]
  },
  {
   "cell_type": "markdown",
   "metadata": {},
   "source": [
    "Run the function"
   ]
  },
  {
   "cell_type": "code",
   "execution_count": null,
   "metadata": {},
   "outputs": [],
   "source": [
    "results = get_key_data(\"aapl\")"
   ]
  },
  {
   "cell_type": "markdown",
   "metadata": {},
   "source": [
    "g. Optional:\n",
    "\n",
    "Use pandas to create a dataframe from the data you extracted. "
   ]
  },
  {
   "cell_type": "code",
   "execution_count": null,
   "metadata": {},
   "outputs": [],
   "source": [
    "import pandas as pd\n",
    "pd.DataFrame(results)"
   ]
  }
 ],
 "metadata": {
  "kernelspec": {
   "display_name": "Python 3",
   "language": "python",
   "name": "python3"
  },
  "language_info": {
   "codemirror_mode": {
    "name": "ipython",
    "version": 3
   },
   "file_extension": ".py",
   "mimetype": "text/x-python",
   "name": "python",
   "nbconvert_exporter": "python",
   "pygments_lexer": "ipython3",
   "version": "3.7.3"
  }
 },
 "nbformat": 4,
 "nbformat_minor": 4
}
